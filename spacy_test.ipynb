{
 "cells": [
  {
   "cell_type": "code",
   "execution_count": 3,
   "metadata": {},
   "outputs": [],
   "source": [
    "import spacy"
   ]
  },
  {
   "cell_type": "code",
   "execution_count": 4,
   "metadata": {},
   "outputs": [],
   "source": [
    "nlp = spacy.load('ja_core_news_sm')"
   ]
  },
  {
   "cell_type": "code",
   "execution_count": 8,
   "metadata": {},
   "outputs": [
    {
     "data": {
      "text/plain": [
       "'日本郵便は20日、2025年用年賀はがきと切手のお年玉くじ抽選で当選番号を発表する。ネット交流サービス（SNS）の普及や郵便料金値上げで「年賀状じまい」が進んでいるが、発行枚数が減って競争率が下がれば、当選確率は上がるのか？\\u3000日本郵便の担当者に聞いてみた。'"
      ]
     },
     "execution_count": 8,
     "metadata": {},
     "output_type": "execute_result"
    }
   ],
   "source": [
    "text = \"\"\"日本郵便は20日、2025年用年賀はがきと切手のお年玉くじ抽選で当選番号を発表する。ネット交流サービス（SNS）の普及や郵便料金値上げで「年賀状じまい」が進んでいるが、発行枚数が減って競争率が下がれば、当選確率は上がるのか？　日本郵便の担当者に聞いてみた。\"\"\"\n",
    "text"
   ]
  },
  {
   "cell_type": "markdown",
   "metadata": {},
   "source": [
    "# text processing"
   ]
  },
  {
   "cell_type": "code",
   "execution_count": 7,
   "metadata": {},
   "outputs": [
    {
     "data": {
      "text/plain": [
       "日本郵便は20日、2025年用年賀はがきと切手のお年玉くじ抽選で当選番号を発表する。ネット交流サービス（SNS）の普及や郵便料金値上げで「年賀状じまい」が進んでいるが、発行枚数が減って競争率が下がれば、当選確率は上がるのか？　日本郵便の担当者に聞いてみた。"
      ]
     },
     "execution_count": 7,
     "metadata": {},
     "output_type": "execute_result"
    }
   ],
   "source": [
    "doc = nlp(text)\n",
    "doc"
   ]
  },
  {
   "cell_type": "code",
   "execution_count": 9,
   "metadata": {},
   "outputs": [
    {
     "data": {
      "text/plain": [
       "spacy.tokens.doc.Doc"
      ]
     },
     "execution_count": 9,
     "metadata": {},
     "output_type": "execute_result"
    }
   ],
   "source": [
    "type(doc)"
   ]
  },
  {
   "cell_type": "code",
   "execution_count": 12,
   "metadata": {},
   "outputs": [
    {
     "data": {
      "text/plain": [
       "['_',\n",
       " '__bytes__',\n",
       " '__class__',\n",
       " '__delattr__',\n",
       " '__dir__',\n",
       " '__doc__',\n",
       " '__eq__',\n",
       " '__format__',\n",
       " '__ge__',\n",
       " '__getattribute__',\n",
       " '__getitem__',\n",
       " '__gt__',\n",
       " '__hash__',\n",
       " '__init__',\n",
       " '__init_subclass__',\n",
       " '__iter__',\n",
       " '__le__',\n",
       " '__len__',\n",
       " '__lt__',\n",
       " '__ne__',\n",
       " '__new__',\n",
       " '__pyx_vtable__',\n",
       " '__reduce__',\n",
       " '__reduce_ex__',\n",
       " '__repr__',\n",
       " '__setattr__',\n",
       " '__setstate__',\n",
       " '__sizeof__',\n",
       " '__str__',\n",
       " '__subclasshook__',\n",
       " '__unicode__',\n",
       " '_bulk_merge',\n",
       " '_context',\n",
       " '_get_array_attrs',\n",
       " '_realloc',\n",
       " '_vector',\n",
       " '_vector_norm',\n",
       " 'cats',\n",
       " 'char_span',\n",
       " 'copy',\n",
       " 'count_by',\n",
       " 'doc',\n",
       " 'ents',\n",
       " 'extend_tensor',\n",
       " 'from_array',\n",
       " 'from_bytes',\n",
       " 'from_dict',\n",
       " 'from_disk',\n",
       " 'from_docs',\n",
       " 'from_json',\n",
       " 'get_extension',\n",
       " 'get_lca_matrix',\n",
       " 'has_annotation',\n",
       " 'has_extension',\n",
       " 'has_unknown_spaces',\n",
       " 'has_vector',\n",
       " 'is_nered',\n",
       " 'is_parsed',\n",
       " 'is_sentenced',\n",
       " 'is_tagged',\n",
       " 'lang',\n",
       " 'lang_',\n",
       " 'mem',\n",
       " 'noun_chunks',\n",
       " 'noun_chunks_iterator',\n",
       " 'remove_extension',\n",
       " 'retokenize',\n",
       " 'sentiment',\n",
       " 'sents',\n",
       " 'set_ents',\n",
       " 'set_extension',\n",
       " 'similarity',\n",
       " 'spans',\n",
       " 'tensor',\n",
       " 'text',\n",
       " 'text_with_ws',\n",
       " 'to_array',\n",
       " 'to_bytes',\n",
       " 'to_dict',\n",
       " 'to_disk',\n",
       " 'to_json',\n",
       " 'to_utf8_array',\n",
       " 'user_data',\n",
       " 'user_hooks',\n",
       " 'user_span_hooks',\n",
       " 'user_token_hooks',\n",
       " 'vector',\n",
       " 'vector_norm',\n",
       " 'vocab']"
      ]
     },
     "execution_count": 12,
     "metadata": {},
     "output_type": "execute_result"
    }
   ],
   "source": [
    "dir(doc)"
   ]
  },
  {
   "cell_type": "code",
   "execution_count": 10,
   "metadata": {},
   "outputs": [
    {
     "data": {
      "text/plain": [
       "78"
      ]
     },
     "execution_count": 10,
     "metadata": {},
     "output_type": "execute_result"
    }
   ],
   "source": [
    "len(doc)"
   ]
  },
  {
   "cell_type": "code",
   "execution_count": 11,
   "metadata": {},
   "outputs": [
    {
     "name": "stdout",
     "output_type": "stream",
     "text": [
      "日本\n",
      "郵便\n",
      "は\n",
      "20\n",
      "日\n",
      "、\n",
      "2025\n",
      "年\n",
      "用\n",
      "年賀\n",
      "はがき\n",
      "と\n",
      "切手\n",
      "の\n",
      "お年玉\n",
      "くじ\n",
      "抽選\n",
      "で\n",
      "当選\n",
      "番号\n",
      "を\n",
      "発表\n",
      "する\n",
      "。\n",
      "ネット\n",
      "交流\n",
      "サービス\n",
      "（\n",
      "SNS\n",
      "）\n",
      "の\n",
      "普及\n",
      "や\n",
      "郵便\n",
      "料金\n",
      "値上げ\n",
      "で\n",
      "「\n",
      "年賀\n",
      "状\n",
      "じまい\n",
      "」\n",
      "が\n",
      "進ん\n",
      "で\n",
      "いる\n",
      "が\n",
      "、\n",
      "発行\n",
      "枚数\n",
      "が\n",
      "減っ\n",
      "て\n",
      "競争\n",
      "率\n",
      "が\n",
      "下がれ\n",
      "ば\n",
      "、\n",
      "当選\n",
      "確率\n",
      "は\n",
      "上がる\n",
      "の\n",
      "か\n",
      "？\n",
      "　\n",
      "日本\n",
      "郵便\n",
      "の\n",
      "担当\n",
      "者\n",
      "に\n",
      "聞い\n",
      "て\n",
      "み\n",
      "た\n",
      "。\n"
     ]
    }
   ],
   "source": [
    "for token in doc:\n",
    "    print(token)"
   ]
  },
  {
   "cell_type": "code",
   "execution_count": 13,
   "metadata": {},
   "outputs": [
    {
     "name": "stdout",
     "output_type": "stream",
     "text": [
      "日本郵便は20日、2025年用年賀はがきと切手のお年玉くじ抽選で当選番号を発表する。\n",
      "ネット交流サービス（SNS）の普及や郵便料金値上げで「年賀状じまい」が進んでいるが、発行枚数が減って競争率が下がれば、当選確率は上がるのか？　日本郵便の担当者に聞いてみた。\n"
     ]
    }
   ],
   "source": [
    "for seq in doc.sents:\n",
    "    print(seq)"
   ]
  },
  {
   "cell_type": "code",
   "execution_count": 16,
   "metadata": {},
   "outputs": [
    {
     "name": "stdout",
     "output_type": "stream",
     "text": [
      "日本:\tPROPN\n",
      "郵便:\tNOUN\n",
      "は:\tADP\n",
      "20:\tNUM\n",
      "日:\tNOUN\n",
      "、:\tPUNCT\n",
      "2025:\tNUM\n",
      "年:\tNOUN\n",
      "用:\tNOUN\n",
      "年賀:\tNOUN\n",
      "はがき:\tNOUN\n",
      "と:\tADP\n",
      "切手:\tNOUN\n",
      "の:\tADP\n",
      "お年玉:\tNOUN\n",
      "くじ:\tNOUN\n",
      "抽選:\tNOUN\n",
      "で:\tADP\n",
      "当選:\tNOUN\n",
      "番号:\tNOUN\n",
      "を:\tADP\n",
      "発表:\tVERB\n",
      "する:\tAUX\n",
      "。:\tPUNCT\n",
      "ネット:\tNOUN\n",
      "交流:\tNOUN\n",
      "サービス:\tNOUN\n",
      "（:\tNOUN\n",
      "SNS:\tNOUN\n",
      "）:\tNOUN\n",
      "の:\tADP\n",
      "普及:\tNOUN\n",
      "や:\tADP\n",
      "郵便:\tNOUN\n",
      "料金:\tNOUN\n",
      "値上げ:\tNOUN\n",
      "で:\tADP\n",
      "「:\tPUNCT\n",
      "年賀:\tNOUN\n",
      "状:\tNOUN\n",
      "じまい:\tPROPN\n",
      "」:\tPUNCT\n",
      "が:\tADP\n",
      "進ん:\tVERB\n",
      "で:\tSCONJ\n",
      "いる:\tVERB\n",
      "が:\tSCONJ\n",
      "、:\tPUNCT\n",
      "発行:\tNOUN\n",
      "枚数:\tNOUN\n",
      "が:\tADP\n",
      "減っ:\tVERB\n",
      "て:\tSCONJ\n",
      "競争:\tNOUN\n",
      "率:\tNOUN\n",
      "が:\tADP\n",
      "下がれ:\tVERB\n",
      "ば:\tSCONJ\n",
      "、:\tPUNCT\n",
      "当選:\tNOUN\n",
      "確率:\tNOUN\n",
      "は:\tADP\n",
      "上がる:\tVERB\n",
      "の:\tSCONJ\n",
      "か:\tPART\n",
      "？:\tVERB\n",
      "　:\tSPACE\n",
      "日本:\tPROPN\n",
      "郵便:\tNOUN\n",
      "の:\tADP\n",
      "担当:\tNOUN\n",
      "者:\tNOUN\n",
      "に:\tADP\n",
      "聞い:\tVERB\n",
      "て:\tSCONJ\n",
      "み:\tVERB\n",
      "た:\tAUX\n",
      "。:\tPUNCT\n"
     ]
    }
   ],
   "source": [
    "for token in doc:\n",
    "    print(\"%s:\\t%s\"%(token, token.pos_))"
   ]
  },
  {
   "cell_type": "markdown",
   "metadata": {},
   "source": [
    "# named object recognition"
   ]
  },
  {
   "cell_type": "code",
   "execution_count": 18,
   "metadata": {},
   "outputs": [],
   "source": [
    "from spacy import displacy"
   ]
  },
  {
   "cell_type": "code",
   "execution_count": 19,
   "metadata": {},
   "outputs": [
    {
     "data": {
      "text/html": [
       "<span class=\"tex2jax_ignore\"><div class=\"entities\" style=\"line-height: 2.5; direction: ltr\">\n",
       "<mark class=\"entity\" style=\"background: #7aecec; padding: 0.45em 0.6em; margin: 0 0.25em; line-height: 1; border-radius: 0.35em;\">\n",
       "    日本郵便\n",
       "    <span style=\"font-size: 0.8em; font-weight: bold; line-height: 1; border-radius: 0.35em; vertical-align: middle; margin-left: 0.5rem\">ORG</span>\n",
       "</mark>\n",
       "は\n",
       "<mark class=\"entity\" style=\"background: #bfe1d9; padding: 0.45em 0.6em; margin: 0 0.25em; line-height: 1; border-radius: 0.35em;\">\n",
       "    20日\n",
       "    <span style=\"font-size: 0.8em; font-weight: bold; line-height: 1; border-radius: 0.35em; vertical-align: middle; margin-left: 0.5rem\">DATE</span>\n",
       "</mark>\n",
       "、\n",
       "<mark class=\"entity\" style=\"background: #bfe1d9; padding: 0.45em 0.6em; margin: 0 0.25em; line-height: 1; border-radius: 0.35em;\">\n",
       "    2025年\n",
       "    <span style=\"font-size: 0.8em; font-weight: bold; line-height: 1; border-radius: 0.35em; vertical-align: middle; margin-left: 0.5rem\">DATE</span>\n",
       "</mark>\n",
       "用年賀はがきと切手のお年玉くじ抽選で当選番号を発表する。ネット交流サービス（SNS）の普及や郵便料金値上げで「年賀状じまい」が進んでいるが、発行枚数が減って競争率が下がれば、当選確率は上がるのか？　\n",
       "<mark class=\"entity\" style=\"background: #7aecec; padding: 0.45em 0.6em; margin: 0 0.25em; line-height: 1; border-radius: 0.35em;\">\n",
       "    日本郵便\n",
       "    <span style=\"font-size: 0.8em; font-weight: bold; line-height: 1; border-radius: 0.35em; vertical-align: middle; margin-left: 0.5rem\">ORG</span>\n",
       "</mark>\n",
       "の担当者に聞いてみた。</div></span>"
      ],
      "text/plain": [
       "<IPython.core.display.HTML object>"
      ]
     },
     "metadata": {},
     "output_type": "display_data"
    }
   ],
   "source": [
    "displacy.render(doc, style='ent', jupyter=True)"
   ]
  },
  {
   "cell_type": "markdown",
   "metadata": {},
   "source": [
    "# find all the name in sentence"
   ]
  },
  {
   "cell_type": "code",
   "execution_count": 28,
   "metadata": {},
   "outputs": [],
   "source": [
    "text_2 = \"\"\"特にデンマークは北大西洋条約機構（NATO）の同盟国で、グリーンランドには米軍の基地がある。トランプ氏との電話会談で「グリーンランドは売り物ではない」と売却を拒否したフレデリクセン首相は、「われわれは深刻な状況にある」と外交的な緊張に懸念を示した。\"\"\""
   ]
  },
  {
   "cell_type": "code",
   "execution_count": 30,
   "metadata": {},
   "outputs": [],
   "source": [
    "nlp_result = nlp(text_2)"
   ]
  },
  {
   "cell_type": "code",
   "execution_count": 31,
   "metadata": {},
   "outputs": [
    {
     "data": {
      "text/html": [
       "<span class=\"tex2jax_ignore\"><div class=\"entities\" style=\"line-height: 2.5; direction: ltr\">特に\n",
       "<mark class=\"entity\" style=\"background: #aa9cfc; padding: 0.45em 0.6em; margin: 0 0.25em; line-height: 1; border-radius: 0.35em;\">\n",
       "    デンマーク\n",
       "    <span style=\"font-size: 0.8em; font-weight: bold; line-height: 1; border-radius: 0.35em; vertical-align: middle; margin-left: 0.5rem\">PERSON</span>\n",
       "</mark>\n",
       "は\n",
       "<mark class=\"entity\" style=\"background: #ff9561; padding: 0.45em 0.6em; margin: 0 0.25em; line-height: 1; border-radius: 0.35em;\">\n",
       "    北大西洋\n",
       "    <span style=\"font-size: 0.8em; font-weight: bold; line-height: 1; border-radius: 0.35em; vertical-align: middle; margin-left: 0.5rem\">LOC</span>\n",
       "</mark>\n",
       "条約機構（\n",
       "<mark class=\"entity\" style=\"background: #7aecec; padding: 0.45em 0.6em; margin: 0 0.25em; line-height: 1; border-radius: 0.35em;\">\n",
       "    NATO）\n",
       "    <span style=\"font-size: 0.8em; font-weight: bold; line-height: 1; border-radius: 0.35em; vertical-align: middle; margin-left: 0.5rem\">ORG</span>\n",
       "</mark>\n",
       "の同盟国で、\n",
       "<mark class=\"entity\" style=\"background: #aa9cfc; padding: 0.45em 0.6em; margin: 0 0.25em; line-height: 1; border-radius: 0.35em;\">\n",
       "    グリーンランド\n",
       "    <span style=\"font-size: 0.8em; font-weight: bold; line-height: 1; border-radius: 0.35em; vertical-align: middle; margin-left: 0.5rem\">PERSON</span>\n",
       "</mark>\n",
       "には\n",
       "<mark class=\"entity\" style=\"background: #7aecec; padding: 0.45em 0.6em; margin: 0 0.25em; line-height: 1; border-radius: 0.35em;\">\n",
       "    米軍\n",
       "    <span style=\"font-size: 0.8em; font-weight: bold; line-height: 1; border-radius: 0.35em; vertical-align: middle; margin-left: 0.5rem\">ORG</span>\n",
       "</mark>\n",
       "の基地がある。\n",
       "<mark class=\"entity\" style=\"background: #aa9cfc; padding: 0.45em 0.6em; margin: 0 0.25em; line-height: 1; border-radius: 0.35em;\">\n",
       "    トランプ\n",
       "    <span style=\"font-size: 0.8em; font-weight: bold; line-height: 1; border-radius: 0.35em; vertical-align: middle; margin-left: 0.5rem\">PERSON</span>\n",
       "</mark>\n",
       "氏との電話会談で「\n",
       "<mark class=\"entity\" style=\"background: #aa9cfc; padding: 0.45em 0.6em; margin: 0 0.25em; line-height: 1; border-radius: 0.35em;\">\n",
       "    グリーンランド\n",
       "    <span style=\"font-size: 0.8em; font-weight: bold; line-height: 1; border-radius: 0.35em; vertical-align: middle; margin-left: 0.5rem\">PERSON</span>\n",
       "</mark>\n",
       "は売り物ではない」と売却を拒否した\n",
       "<mark class=\"entity\" style=\"background: #feca74; padding: 0.45em 0.6em; margin: 0 0.25em; line-height: 1; border-radius: 0.35em;\">\n",
       "    フレデリクセン\n",
       "    <span style=\"font-size: 0.8em; font-weight: bold; line-height: 1; border-radius: 0.35em; vertical-align: middle; margin-left: 0.5rem\">GPE</span>\n",
       "</mark>\n",
       "\n",
       "<mark class=\"entity\" style=\"background: #ddd; padding: 0.45em 0.6em; margin: 0 0.25em; line-height: 1; border-radius: 0.35em;\">\n",
       "    首相\n",
       "    <span style=\"font-size: 0.8em; font-weight: bold; line-height: 1; border-radius: 0.35em; vertical-align: middle; margin-left: 0.5rem\">TITLE_AFFIX</span>\n",
       "</mark>\n",
       "は、「われわれは深刻な状況にある」と外交的な緊張に懸念を示した。</div></span>"
      ],
      "text/plain": [
       "<IPython.core.display.HTML object>"
      ]
     },
     "metadata": {},
     "output_type": "display_data"
    }
   ],
   "source": [
    "displacy.render(nlp_result, style='ent', jupyter=True)"
   ]
  },
  {
   "cell_type": "code",
   "execution_count": 33,
   "metadata": {},
   "outputs": [],
   "source": [
    "from collections import Counter"
   ]
  },
  {
   "cell_type": "code",
   "execution_count": 45,
   "metadata": {},
   "outputs": [],
   "source": [
    "def find_person(doc, top=2):\n",
    "    c = Counter()\n",
    "    for ent in doc.ents:\n",
    "        if ent.label_ == 'PERSON':\n",
    "            c[ent.text] += 1\n",
    "    return c.most_common(top)"
   ]
  },
  {
   "cell_type": "code",
   "execution_count": 47,
   "metadata": {},
   "outputs": [
    {
     "data": {
      "text/plain": [
       "[('グリーンランド', 2), ('デンマーク', 1)]"
      ]
     },
     "execution_count": 47,
     "metadata": {},
     "output_type": "execute_result"
    }
   ],
   "source": [
    "find_person(nlp_result,2)"
   ]
  }
 ],
 "metadata": {
  "kernelspec": {
   "display_name": "spacy",
   "language": "python",
   "name": "python3"
  },
  "language_info": {
   "codemirror_mode": {
    "name": "ipython",
    "version": 3
   },
   "file_extension": ".py",
   "mimetype": "text/x-python",
   "name": "python",
   "nbconvert_exporter": "python",
   "pygments_lexer": "ipython3",
   "version": "3.10.16"
  }
 },
 "nbformat": 4,
 "nbformat_minor": 2
}
